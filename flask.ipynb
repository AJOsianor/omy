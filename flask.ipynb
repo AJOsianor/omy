{
 "cells": [
  {
   "cell_type": "code",
   "execution_count": 13,
   "metadata": {},
   "outputs": [
    {
     "data": {
      "text/plain": [
       "\"\\napp = Flask(__myfinalproject__)\\n\\n# Load your pre-trained clustering model\\nwith open('Customer Segmention.pkl', 'rb') as file:\\n    clustering_model = pickle.load(file)\\n\\n@app.route('/')\\ndef home():\\n    return render_template('index.html')\\n\\n@app.route('/predict_cluster', methods=['POST'])\\ndef predict_cluster():\\n    try:\\n        # Get input values from the form\\n        recency = float(request.form['recency'])\\n        frequency = float(request.form['frequency'])\\n        monetary_value = float(request.form['monetary_value'])\\n\\n        # Make predictions using the loaded clustering model\\n        cluster_value = clustering_model.predict([[recency, frequency, monetary_value]])[0]\\n\\n        # Render the result in the HTML template\\n        return render_template('index.html', cluster=cluster_value)\\n\\n    except Exception as e:\\n        return render_template('index.html', error=str(e))\\n\\nif __name__ == '__main__':\\n    app.run(debug=True)\\n\""
      ]
     },
     "execution_count": 13,
     "metadata": {},
     "output_type": "execute_result"
    }
   ],
   "source": [
    "'''\n",
    "app = Flask(__myfinalproject__)\n",
    "\n",
    "# Load your pre-trained clustering model\n",
    "with open('Customer Segmention.pkl', 'rb') as file:\n",
    "    clustering_model = pickle.load(file)\n",
    "\n",
    "@app.route('/')\n",
    "def home():\n",
    "    return render_template('index.html')\n",
    "\n",
    "@app.route('/predict_cluster', methods=['POST'])\n",
    "def predict_cluster():\n",
    "    try:\n",
    "        # Get input values from the form\n",
    "        recency = float(request.form['recency'])\n",
    "        frequency = float(request.form['frequency'])\n",
    "        monetary_value = float(request.form['monetary_value'])\n",
    "\n",
    "        # Make predictions using the loaded clustering model\n",
    "        cluster_value = clustering_model.predict([[recency, frequency, monetary_value]])[0]\n",
    "\n",
    "        # Render the result in the HTML template\n",
    "        return render_template('index.html', cluster=cluster_value)\n",
    "\n",
    "    except Exception as e:\n",
    "        return render_template('index.html', error=str(e))\n",
    "\n",
    "if __name__ == '__main__':\n",
    "    app.run(debug=True)\n",
    "'''"
   ]
  }
 ],
 "metadata": {
  "kernelspec": {
   "display_name": "base",
   "language": "python",
   "name": "python3"
  },
  "language_info": {
   "codemirror_mode": {
    "name": "ipython",
    "version": 3
   },
   "file_extension": ".py",
   "mimetype": "text/x-python",
   "name": "python",
   "nbconvert_exporter": "python",
   "pygments_lexer": "ipython3",
   "version": "3.12.4"
  }
 },
 "nbformat": 4,
 "nbformat_minor": 2
}
